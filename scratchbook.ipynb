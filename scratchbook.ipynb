{
 "metadata": {
  "language_info": {
   "codemirror_mode": {
    "name": "ipython",
    "version": 3
   },
   "file_extension": ".py",
   "mimetype": "text/x-python",
   "name": "python",
   "nbconvert_exporter": "python",
   "pygments_lexer": "ipython3",
   "version": "3.8.5-final"
  },
  "orig_nbformat": 2,
  "kernelspec": {
   "name": "Python 3.8.5 64-bit ('base': conda)",
   "display_name": "Python 3.8.5 64-bit ('base': conda)",
   "metadata": {
    "interpreter": {
     "hash": "fdce1bee3a4df8d1a1fa4d38b29664ec97e28d1bea539720d01ec921b2621e44"
    }
   }
  }
 },
 "nbformat": 4,
 "nbformat_minor": 2,
 "cells": [
  {
   "cell_type": "code",
   "execution_count": 3,
   "metadata": {
    "tags": []
   },
   "outputs": [
    {
     "output_type": "stream",
     "name": "stdout",
     "text": "The autoreload extension is already loaded. To reload it, use:\n  %reload_ext autoreload\n"
    }
   ],
   "source": [
    "from bs4 import BeautifulSoup\n",
    "from selenium import webdriver\n",
    "import pickle\n",
    "import time\n",
    "import requests\n",
    "import os\n",
    "from scraping import *\n",
    "import pandas as pd\n",
    "import regex as re\n",
    "import numpy as np\n",
    "import random\n",
    "\n",
    "%load_ext autoreload\n",
    "%autoreload 2"
   ]
  },
  {
   "cell_type": "code",
   "execution_count": 34,
   "metadata": {},
   "outputs": [],
   "source": [
    "\n",
    "chromedriver = \"E:/chromedriver_win32/chromedriver\" # path to the chromedriver executable\n",
    "os.environ[\"webdriver.chrome.driver\"] = chromedriver\n",
    "driver = webdriver.Chrome(chromedriver)\n"
   ]
  },
  {
   "cell_type": "code",
   "execution_count": 151,
   "metadata": {},
   "outputs": [],
   "source": [
    "url = \"https://www.tripadvisor.in/Attraction_Review-g61000-d139187-Reviews-or5-Glacier_Point-Yosemite_National_Park_California.html#REVIEWS\"\n",
    "driver.get(url)\n",
    "time.sleep(10)\n",
    "button = driver.find_element_by_class_name(\"_3aUwQbpX\")\n",
    "button.click()\n",
    "ta_reviews_page_soup = BeautifulSoup(driver.page_source,'html5lib')\n"
   ]
  },
  {
   "cell_type": "code",
   "execution_count": 4,
   "metadata": {},
   "outputs": [],
   "source": [
    "url = \"https://www.tripadvisor.in/Attraction_Review-g61000-d139187-Reviews-or{}-Glacier_Point-Yosemite_National_Park_California.html#REVIEWS\"\n",
    "\n",
    "col_names = ['attraction_name', \n",
    " 'attraction_id',\n",
    " 'user_name',\n",
    " 'user_profile_link',\n",
    " 'review_date',\n",
    " 'helpful_votes',\n",
    " 'rating',\n",
    " 'review_link',\n",
    " 'review_text',\n",
    " 'review_title',\n",
    " 'experience_date']\n",
    "\n",
    "df_reviews = pd.DataFrame(columns=col_names)\n",
    "\n",
    "# point_name = soup.find('title').text.split(' - ')[0]\n",
    "# point_id = '-'.join(url.split('-')[1:3])"
   ]
  },
  {
   "cell_type": "code",
   "execution_count": 29,
   "metadata": {},
   "outputs": [
    {
     "output_type": "execute_result",
     "data": {
      "text/plain": "&quot;I&#39;d seen the pictures before we visited from England and assumed they must have been touched up. But this is breathtaking. Came twice as the first time it was a bit hazy due to forest fires.  Sunset here is hard to describe. If you ever get the chance go!&quot;"
     },
     "metadata": {},
     "execution_count": 29
    }
   ],
   "source": [
    "df_reviews['review_text'][500]"
   ]
  },
  {
   "cell_type": "code",
   "execution_count": 11,
   "metadata": {},
   "outputs": [],
   "source": [
    "attraction_url_list = ['https://www.tripadvisor.in/Attraction_Review-g61000-d489919-Reviews-or{}-Yosemite_Valley-Yosemite_National_Park_California.html',\n",
    "'https://www.tripadvisor.in/Attraction_Review-g61000-d592681-Reviews-or{}-Mariposa_Grove_of_Giant_Sequoias-Yosemite_National_Park_California.html',\n",
    "'https://www.tripadvisor.in/Attraction_Review-g61000-d139183-or{}-Reviews-Half_Dome-Yosemite_National_Park_California.html',\n",
    "'https://www.tripadvisor.in/Attraction_Review-g61000-d593212-or{}-Reviews-Tunnel_View-Yosemite_National_Park_California.html',\n",
    "'https://www.tripadvisor.in/Attraction_Review-g61000-d146103-or{}-Reviews-Tioga_Pass-Yosemite_National_Park_California.html',\n",
    "'https://www.tripadvisor.in/Attraction_Review-g61000-d139182-or{}-Reviews-El_Capitan-Yosemite_National_Park_California.html',\n",
    "'https://www.tripadvisor.in/Attraction_Review-g61000-d483482-or{}-Reviews-Mist_Trail-Yosemite_National_Park_California.html',\n",
    "'https://www.tripadvisor.in/Attraction_Review-g61000-d483476-or{}-Reviews-Yosemite_Falls-Yosemite_National_Park_California.html',\n",
    "'https://www.tripadvisor.in/Attraction_Review-g61000-d483481-or{}-Reviews-Vernal_Fall-Yosemite_National_Park_California.html']\n",
    "\n",
    "attraction_name_list = [re.sub('_', ' ', name.split('-')[-2]) for name in attraction_url_list]\n",
    "\n",
    "attraction_numbers = [2000, 1861, 1472, 2000, 1159, 925, 875, 1760, 1145]\n",
    "\n",
    "attraction_id_list = ['-'.join(url.split('-')[1:3]) for url in attraction_url_list]"
   ]
  },
  {
   "cell_type": "code",
   "execution_count": 30,
   "metadata": {},
   "outputs": [],
   "source": [
    "df_reviews_total = pd.read_csv('attraction_point_reviews.csv')\n",
    "# df_reviews_total.tail()"
   ]
  },
  {
   "cell_type": "code",
   "execution_count": null,
   "metadata": {},
   "outputs": [],
   "source": []
  },
  {
   "source": [
    "## Come back & get El Capitan reviews from 425 to 925!!"
   ],
   "cell_type": "markdown",
   "metadata": {}
  },
  {
   "cell_type": "code",
   "execution_count": 43,
   "metadata": {
    "tags": [
     "outputPrepend"
    ]
   },
   "outputs": [
    {
     "output_type": "stream",
     "name": "stdout",
     "text": " on url https://www.tripadvisor.in/Attraction_Review-g61000-d483482-or{}-Reviews-Mist_Trail-Yosemite_National_Park_California.html\nReviews List came up empty on url https://www.tripadvisor.in/Attraction_Review-g61000-d483482-or{}-Reviews-Mist_Trail-Yosemite_National_Park_California.html\nReviews List came up empty on url https://www.tripadvisor.in/Attraction_Review-g61000-d483482-or{}-Reviews-Mist_Trail-Yosemite_National_Park_California.html\nReviews List came up empty on url https://www.tripadvisor.in/Attraction_Review-g61000-d483482-or{}-Reviews-Mist_Trail-Yosemite_National_Park_California.html\nReviews List came up empty on url https://www.tripadvisor.in/Attraction_Review-g61000-d483482-or{}-Reviews-Mist_Trail-Yosemite_National_Park_California.html\nReviews List came up empty on url https://www.tripadvisor.in/Attraction_Review-g61000-d483482-or{}-Reviews-Mist_Trail-Yosemite_National_Park_California.html\nReviews List came up empty on url https://www.tripadvisor.in/Attraction_Review-g61000-d483482-or{}-Reviews-Mist_Trail-Yosemite_National_Park_California.html\nReviews List came up empty on url https://www.tripadvisor.in/Attraction_Review-g61000-d483482-or{}-Reviews-Mist_Trail-Yosemite_National_Park_California.html\nReviews List came up empty on url https://www.tripadvisor.in/Attraction_Review-g61000-d483482-or{}-Reviews-Mist_Trail-Yosemite_National_Park_California.html\nReviews List came up empty on url https://www.tripadvisor.in/Attraction_Review-g61000-d483482-or{}-Reviews-Mist_Trail-Yosemite_National_Park_California.html\nReviews List came up empty on url https://www.tripadvisor.in/Attraction_Review-g61000-d483482-or{}-Reviews-Mist_Trail-Yosemite_National_Park_California.html\nReviews List came up empty on url https://www.tripadvisor.in/Attraction_Review-g61000-d483482-or{}-Reviews-Mist_Trail-Yosemite_National_Park_California.html\nReviews List came up empty on url https://www.tripadvisor.in/Attraction_Review-g61000-d483482-or{}-Reviews-Mist_Trail-Yosemite_National_Park_California.html\nReviews List came up empty on url https://www.tripadvisor.in/Attraction_Review-g61000-d483482-or{}-Reviews-Mist_Trail-Yosemite_National_Park_California.html\nReviews List came up empty on url https://www.tripadvisor.in/Attraction_Review-g61000-d483482-or{}-Reviews-Mist_Trail-Yosemite_National_Park_California.html\nReviews List came up empty on url https://www.tripadvisor.in/Attraction_Review-g61000-d483482-or{}-Reviews-Mist_Trail-Yosemite_National_Park_California.html\nReviews List came up empty on url https://www.tripadvisor.in/Attraction_Review-g61000-d483482-or{}-Reviews-Mist_Trail-Yosemite_National_Park_California.html\nReviews List came up empty on url https://www.tripadvisor.in/Attraction_Review-g61000-d483482-or{}-Reviews-Mist_Trail-Yosemite_National_Park_California.html\nReviews List came up empty on url https://www.tripadvisor.in/Attraction_Review-g61000-d483482-or{}-Reviews-Mist_Trail-Yosemite_National_Park_California.html\nReviews List came up empty on url https://www.tripadvisor.in/Attraction_Review-g61000-d483482-or{}-Reviews-Mist_Trail-Yosemite_National_Park_California.html\nReviews List came up empty on url https://www.tripadvisor.in/Attraction_Review-g61000-d483482-or{}-Reviews-Mist_Trail-Yosemite_National_Park_California.html\nReviews List came up empty on url https://www.tripadvisor.in/Attraction_Review-g61000-d483482-or{}-Reviews-Mist_Trail-Yosemite_National_Park_California.html\nReviews List came up empty on url https://www.tripadvisor.in/Attraction_Review-g61000-d483482-or{}-Reviews-Mist_Trail-Yosemite_National_Park_California.html\nReviews List came up empty on url https://www.tripadvisor.in/Attraction_Review-g61000-d483482-or{}-Reviews-Mist_Trail-Yosemite_National_Park_California.html\nReviews List came up empty on url https://www.tripadvisor.in/Attraction_Review-g61000-d483482-or{}-Reviews-Mist_Trail-Yosemite_National_Park_California.html\nReviews List came up empty on url https://www.tripadvisor.in/Attraction_Review-g61000-d483482-or{}-Reviews-Mist_Trail-Yosemite_National_Park_California.html\nReviews List came up empty on url https://www.tripadvisor.in/Attraction_Review-g61000-d483482-or{}-Reviews-Mist_Trail-Yosemite_National_Park_California.html\nReviews List came up empty on url https://www.tripadvisor.in/Attraction_Review-g61000-d483482-or{}-Reviews-Mist_Trail-Yosemite_National_Park_California.html\nReviews List came up empty on url https://www.tripadvisor.in/Attraction_Review-g61000-d483482-or{}-Reviews-Mist_Trail-Yosemite_National_Park_California.html\nReviews List came up empty on url https://www.tripadvisor.in/Attraction_Review-g61000-d483476-or{}-Reviews-Yosemite_Falls-Yosemite_National_Park_California.html\nReviews List came up empty on url https://www.tripadvisor.in/Attraction_Review-g61000-d483476-or{}-Reviews-Yosemite_Falls-Yosemite_National_Park_California.html\nReviews List came up empty on url https://www.tripadvisor.in/Attraction_Review-g61000-d483476-or{}-Reviews-Yosemite_Falls-Yosemite_National_Park_California.html\nReviews List came up empty on url https://www.tripadvisor.in/Attraction_Review-g61000-d483476-or{}-Reviews-Yosemite_Falls-Yosemite_National_Park_California.html\nReviews List came up empty on url https://www.tripadvisor.in/Attraction_Review-g61000-d483476-or{}-Reviews-Yosemite_Falls-Yosemite_National_Park_California.html\nReviews List came up empty on url https://www.tripadvisor.in/Attraction_Review-g61000-d483476-or{}-Reviews-Yosemite_Falls-Yosemite_National_Park_California.html\nReviews List came up empty on url https://www.tripadvisor.in/Attraction_Review-g61000-d483476-or{}-Reviews-Yosemite_Falls-Yosemite_National_Park_California.html\nReviews List came up empty on url https://www.tripadvisor.in/Attraction_Review-g61000-d483476-or{}-Reviews-Yosemite_Falls-Yosemite_National_Park_California.html\nReviews List came up empty on url https://www.tripadvisor.in/Attraction_Review-g61000-d483476-or{}-Reviews-Yosemite_Falls-Yosemite_National_Park_California.html\nReviews List came up empty on url https://www.tripadvisor.in/Attraction_Review-g61000-d483476-or{}-Reviews-Yosemite_Falls-Yosemite_National_Park_California.html\nReviews List came up empty on url https://www.tripadvisor.in/Attraction_Review-g61000-d483476-or{}-Reviews-Yosemite_Falls-Yosemite_National_Park_California.html\nReviews List came up empty on url https://www.tripadvisor.in/Attraction_Review-g61000-d483476-or{}-Reviews-Yosemite_Falls-Yosemite_National_Park_California.html\nReviews List came up empty on url https://www.tripadvisor.in/Attraction_Review-g61000-d483476-or{}-Reviews-Yosemite_Falls-Yosemite_National_Park_California.html\nReviews List came up empty on url https://www.tripadvisor.in/Attraction_Review-g61000-d483476-or{}-Reviews-Yosemite_Falls-Yosemite_National_Park_California.html\nReviews List came up empty on url https://www.tripadvisor.in/Attraction_Review-g61000-d483476-or{}-Reviews-Yosemite_Falls-Yosemite_National_Park_California.html\nReviews List came up empty on url https://www.tripadvisor.in/Attraction_Review-g61000-d483476-or{}-Reviews-Yosemite_Falls-Yosemite_National_Park_California.html\nReviews List came up empty on url https://www.tripadvisor.in/Attraction_Review-g61000-d483476-or{}-Reviews-Yosemite_Falls-Yosemite_National_Park_California.html\nReviews List came up empty on url https://www.tripadvisor.in/Attraction_Review-g61000-d483476-or{}-Reviews-Yosemite_Falls-Yosemite_National_Park_California.html\nReviews List came up empty on url https://www.tripadvisor.in/Attraction_Review-g61000-d483476-or{}-Reviews-Yosemite_Falls-Yosemite_National_Park_California.html\nReviews List came up empty on url https://www.tripadvisor.in/Attraction_Review-g61000-d483476-or{}-Reviews-Yosemite_Falls-Yosemite_National_Park_California.html\nReviews List came up empty on url https://www.tripadvisor.in/Attraction_Review-g61000-d483476-or{}-Reviews-Yosemite_Falls-Yosemite_National_Park_California.html\nReviews List came up empty on url https://www.tripadvisor.in/Attraction_Review-g61000-d483476-or{}-Reviews-Yosemite_Falls-Yosemite_National_Park_California.html\nReviews List came up empty on url https://www.tripadvisor.in/Attraction_Review-g61000-d483476-or{}-Reviews-Yosemite_Falls-Yosemite_National_Park_California.html\nReviews List came up empty on url https://www.tripadvisor.in/Attraction_Review-g61000-d483476-or{}-Reviews-Yosemite_Falls-Yosemite_National_Park_California.html\nReviews List came up empty on url https://www.tripadvisor.in/Attraction_Review-g61000-d483476-or{}-Reviews-Yosemite_Falls-Yosemite_National_Park_California.html\nReviews List came up empty on url https://www.tripadvisor.in/Attraction_Review-g61000-d483476-or{}-Reviews-Yosemite_Falls-Yosemite_National_Park_California.html\nReviews List came up empty on url https://www.tripadvisor.in/Attraction_Review-g61000-d483476-or{}-Reviews-Yosemite_Falls-Yosemite_National_Park_California.html\nReviews List came up empty on url https://www.tripadvisor.in/Attraction_Review-g61000-d483476-or{}-Reviews-Yosemite_Falls-Yosemite_National_Park_California.html\nReviews List came up empty on url https://www.tripadvisor.in/Attraction_Review-g61000-d483476-or{}-Reviews-Yosemite_Falls-Yosemite_National_Park_California.html\nReviews List came up empty on url https://www.tripadvisor.in/Attraction_Review-g61000-d483476-or{}-Reviews-Yosemite_Falls-Yosemite_National_Park_California.html\nReviews List came up empty on url https://www.tripadvisor.in/Attraction_Review-g61000-d483476-or{}-Reviews-Yosemite_Falls-Yosemite_National_Park_California.html\nReviews List came up empty on url https://www.tripadvisor.in/Attraction_Review-g61000-d483476-or{}-Reviews-Yosemite_Falls-Yosemite_National_Park_California.html\nReviews List came up empty on url https://www.tripadvisor.in/Attraction_Review-g61000-d483476-or{}-Reviews-Yosemite_Falls-Yosemite_National_Park_California.html\nReviews List came up empty on url https://www.tripadvisor.in/Attraction_Review-g61000-d483476-or{}-Reviews-Yosemite_Falls-Yosemite_National_Park_California.html\nReviews List came up empty on url https://www.tripadvisor.in/Attraction_Review-g61000-d483476-or{}-Reviews-Yosemite_Falls-Yosemite_National_Park_California.html\nReviews List came up empty on url https://www.tripadvisor.in/Attraction_Review-g61000-d483476-or{}-Reviews-Yosemite_Falls-Yosemite_National_Park_California.html\nReviews List came up empty on url https://www.tripadvisor.in/Attraction_Review-g61000-d483476-or{}-Reviews-Yosemite_Falls-Yosemite_National_Park_California.html\nReviews List came up empty on url https://www.tripadvisor.in/Attraction_Review-g61000-d483476-or{}-Reviews-Yosemite_Falls-Yosemite_National_Park_California.html\nReviews List came up empty on url https://www.tripadvisor.in/Attraction_Review-g61000-d483476-or{}-Reviews-Yosemite_Falls-Yosemite_National_Park_California.html\nReviews List came up empty on url https://www.tripadvisor.in/Attraction_Review-g61000-d483476-or{}-Reviews-Yosemite_Falls-Yosemite_National_Park_California.html\nReviews List came up empty on url https://www.tripadvisor.in/Attraction_Review-g61000-d483476-or{}-Reviews-Yosemite_Falls-Yosemite_National_Park_California.html\nReviews List came up empty on url https://www.tripadvisor.in/Attraction_Review-g61000-d483476-or{}-Reviews-Yosemite_Falls-Yosemite_National_Park_California.html\nReviews List came up empty on url https://www.tripadvisor.in/Attraction_Review-g61000-d483476-or{}-Reviews-Yosemite_Falls-Yosemite_National_Park_California.html\nReviews List came up empty on url https://www.tripadvisor.in/Attraction_Review-g61000-d483476-or{}-Reviews-Yosemite_Falls-Yosemite_National_Park_California.html\nReviews List came up empty on url https://www.tripadvisor.in/Attraction_Review-g61000-d483476-or{}-Reviews-Yosemite_Falls-Yosemite_National_Park_California.html\nReviews List came up empty on url https://www.tripadvisor.in/Attraction_Review-g61000-d483476-or{}-Reviews-Yosemite_Falls-Yosemite_National_Park_California.html\nReviews List came up empty on url https://www.tripadvisor.in/Attraction_Review-g61000-d483476-or{}-Reviews-Yosemite_Falls-Yosemite_National_Park_California.html\nReviews List came up empty on url https://www.tripadvisor.in/Attraction_Review-g61000-d483476-or{}-Reviews-Yosemite_Falls-Yosemite_National_Park_California.html\nReviews List came up empty on url https://www.tripadvisor.in/Attraction_Review-g61000-d483476-or{}-Reviews-Yosemite_Falls-Yosemite_National_Park_California.html\nReviews List came up empty on url https://www.tripadvisor.in/Attraction_Review-g61000-d483481-or{}-Reviews-Vernal_Fall-Yosemite_National_Park_California.html\nReviews List came up empty on url https://www.tripadvisor.in/Attraction_Review-g61000-d483481-or{}-Reviews-Vernal_Fall-Yosemite_National_Park_California.html\nReviews List came up empty on url https://www.tripadvisor.in/Attraction_Review-g61000-d483481-or{}-Reviews-Vernal_Fall-Yosemite_National_Park_California.html\nReviews List came up empty on url https://www.tripadvisor.in/Attraction_Review-g61000-d483481-or{}-Reviews-Vernal_Fall-Yosemite_National_Park_California.html\nReviews List came up empty on url https://www.tripadvisor.in/Attraction_Review-g61000-d483481-or{}-Reviews-Vernal_Fall-Yosemite_National_Park_California.html\nReviews List came up empty on url https://www.tripadvisor.in/Attraction_Review-g61000-d483481-or{}-Reviews-Vernal_Fall-Yosemite_National_Park_California.html\nReviews List came up empty on url https://www.tripadvisor.in/Attraction_Review-g61000-d483481-or{}-Reviews-Vernal_Fall-Yosemite_National_Park_California.html\nReviews List came up empty on url https://www.tripadvisor.in/Attraction_Review-g61000-d483481-or{}-Reviews-Vernal_Fall-Yosemite_National_Park_California.html\nReviews List came up empty on url https://www.tripadvisor.in/Attraction_Review-g61000-d483481-or{}-Reviews-Vernal_Fall-Yosemite_National_Park_California.html\nReviews List came up empty on url https://www.tripadvisor.in/Attraction_Review-g61000-d483481-or{}-Reviews-Vernal_Fall-Yosemite_National_Park_California.html\nReviews List came up empty on url https://www.tripadvisor.in/Attraction_Review-g61000-d483481-or{}-Reviews-Vernal_Fall-Yosemite_National_Park_California.html\nReviews List came up empty on url https://www.tripadvisor.in/Attraction_Review-g61000-d483481-or{}-Reviews-Vernal_Fall-Yosemite_National_Park_California.html\nReviews List came up empty on url https://www.tripadvisor.in/Attraction_Review-g61000-d483481-or{}-Reviews-Vernal_Fall-Yosemite_National_Park_California.html\nReviews List came up empty on url https://www.tripadvisor.in/Attraction_Review-g61000-d483481-or{}-Reviews-Vernal_Fall-Yosemite_National_Park_California.html\nReviews List came up empty on url https://www.tripadvisor.in/Attraction_Review-g61000-d483481-or{}-Reviews-Vernal_Fall-Yosemite_National_Park_California.html\nReviews List came up empty on url https://www.tripadvisor.in/Attraction_Review-g61000-d483481-or{}-Reviews-Vernal_Fall-Yosemite_National_Park_California.html\nReviews List came up empty on url https://www.tripadvisor.in/Attraction_Review-g61000-d483481-or{}-Reviews-Vernal_Fall-Yosemite_National_Park_California.html\nReviews List came up empty on url https://www.tripadvisor.in/Attraction_Review-g61000-d483481-or{}-Reviews-Vernal_Fall-Yosemite_National_Park_California.html\nReviews List came up empty on url https://www.tripadvisor.in/Attraction_Review-g61000-d483481-or{}-Reviews-Vernal_Fall-Yosemite_National_Park_California.html\nReviews List came up empty on url https://www.tripadvisor.in/Attraction_Review-g61000-d483481-or{}-Reviews-Vernal_Fall-Yosemite_National_Park_California.html\nReviews List came up empty on url https://www.tripadvisor.in/Attraction_Review-g61000-d483481-or{}-Reviews-Vernal_Fall-Yosemite_National_Park_California.html\nReviews List came up empty on url https://www.tripadvisor.in/Attraction_Review-g61000-d483481-or{}-Reviews-Vernal_Fall-Yosemite_National_Park_California.html\nReviews List came up empty on url https://www.tripadvisor.in/Attraction_Review-g61000-d483481-or{}-Reviews-Vernal_Fall-Yosemite_National_Park_California.html\nReviews List came up empty on url https://www.tripadvisor.in/Attraction_Review-g61000-d483481-or{}-Reviews-Vernal_Fall-Yosemite_National_Park_California.html\nReviews List came up empty on url https://www.tripadvisor.in/Attraction_Review-g61000-d483481-or{}-Reviews-Vernal_Fall-Yosemite_National_Park_California.html\nReviews List came up empty on url https://www.tripadvisor.in/Attraction_Review-g61000-d483481-or{}-Reviews-Vernal_Fall-Yosemite_National_Park_California.html\nReviews List came up empty on url https://www.tripadvisor.in/Attraction_Review-g61000-d483481-or{}-Reviews-Vernal_Fall-Yosemite_National_Park_California.html\nReviews List came up empty on url https://www.tripadvisor.in/Attraction_Review-g61000-d483481-or{}-Reviews-Vernal_Fall-Yosemite_National_Park_California.html\nReviews List came up empty on url https://www.tripadvisor.in/Attraction_Review-g61000-d483481-or{}-Reviews-Vernal_Fall-Yosemite_National_Park_California.html\nReviews List came up empty on url https://www.tripadvisor.in/Attraction_Review-g61000-d483481-or{}-Reviews-Vernal_Fall-Yosemite_National_Park_California.html\nReviews List came up empty on url https://www.tripadvisor.in/Attraction_Review-g61000-d483481-or{}-Reviews-Vernal_Fall-Yosemite_National_Park_California.html\nReviews List came up empty on url https://www.tripadvisor.in/Attraction_Review-g61000-d483481-or{}-Reviews-Vernal_Fall-Yosemite_National_Park_California.html\nReviews List came up empty on url https://www.tripadvisor.in/Attraction_Review-g61000-d483481-or{}-Reviews-Vernal_Fall-Yosemite_National_Park_California.html\nReviews List came up empty on url https://www.tripadvisor.in/Attraction_Review-g61000-d483481-or{}-Reviews-Vernal_Fall-Yosemite_National_Park_California.html\nReviews List came up empty on url https://www.tripadvisor.in/Attraction_Review-g61000-d483481-or{}-Reviews-Vernal_Fall-Yosemite_National_Park_California.html\nReviews List came up empty on url https://www.tripadvisor.in/Attraction_Review-g61000-d483481-or{}-Reviews-Vernal_Fall-Yosemite_National_Park_California.html\nReviews List came up empty on url https://www.tripadvisor.in/Attraction_Review-g61000-d483481-or{}-Reviews-Vernal_Fall-Yosemite_National_Park_California.html\nReviews List came up empty on url https://www.tripadvisor.in/Attraction_Review-g61000-d483481-or{}-Reviews-Vernal_Fall-Yosemite_National_Park_California.html\nReviews List came up empty on url https://www.tripadvisor.in/Attraction_Review-g61000-d483481-or{}-Reviews-Vernal_Fall-Yosemite_National_Park_California.html\nReviews List came up empty on url https://www.tripadvisor.in/Attraction_Review-g61000-d483481-or{}-Reviews-Vernal_Fall-Yosemite_National_Park_California.html\nReviews List came up empty on url https://www.tripadvisor.in/Attraction_Review-g61000-d483481-or{}-Reviews-Vernal_Fall-Yosemite_National_Park_California.html\nReviews List came up empty on url https://www.tripadvisor.in/Attraction_Review-g61000-d483481-or{}-Reviews-Vernal_Fall-Yosemite_National_Park_California.html\nReviews List came up empty on url https://www.tripadvisor.in/Attraction_Review-g61000-d483481-or{}-Reviews-Vernal_Fall-Yosemite_National_Park_California.html\nReviews List came up empty on url https://www.tripadvisor.in/Attraction_Review-g61000-d483481-or{}-Reviews-Vernal_Fall-Yosemite_National_Park_California.html\nReviews List came up empty on url https://www.tripadvisor.in/Attraction_Review-g61000-d483481-or{}-Reviews-Vernal_Fall-Yosemite_National_Park_California.html\nReviews List came up empty on url https://www.tripadvisor.in/Attraction_Review-g61000-d483481-or{}-Reviews-Vernal_Fall-Yosemite_National_Park_California.html\nReviews List came up empty on url https://www.tripadvisor.in/Attraction_Review-g61000-d483481-or{}-Reviews-Vernal_Fall-Yosemite_National_Park_California.html\nReviews List came up empty on url https://www.tripadvisor.in/Attraction_Review-g61000-d483481-or{}-Reviews-Vernal_Fall-Yosemite_National_Park_California.html\n"
    },
    {
     "output_type": "execute_result",
     "data": {
      "text/plain": "     attraction_name   attraction_id           user_name  \\\n1139     Vernal Fall  g61000-d483481  Fairport Travelers   \n1140     Vernal Fall  g61000-d483481      CAtravelfamily   \n1141     Vernal Fall  g61000-d483481        doodlebugakj   \n1142     Vernal Fall  g61000-d483481            Jase2153   \n1143     Vernal Fall  g61000-d483481          booradley2   \n\n            user_profile_link review_date helpful_votes rating  \\\n1139       /Profile/Clarkvara    Jul 2008           560      4   \n1140  /Profile/CAtravelfamily    Jun 2008            16      5   \n1141    /Profile/doodlebugakj    Jul 2007           NaN      5   \n1142        /Profile/Jase2153    Sep 2005             9      5   \n1143      /Profile/booradley2    Sep 2004           214      5   \n\n                                            review_link  \\\n1139  /ShowUserReviews-g61000-d483481-r17854214-Vern...   \n1140  /ShowUserReviews-g61000-d483481-r17268549-Vern...   \n1141  /ShowUserReviews-g61000-d483481-r8255121-Verna...   \n1142  /ShowUserReviews-g61000-d483481-r3910762-Verna...   \n1143  /ShowUserReviews-g61000-d483481-r2512847-Verna...   \n\n                                            review_text  \\\n1139  Vernal Falls is sort of like the first leg of ...   \n1140  Whew, it was a tough climb at times, but once ...   \n1141  This was a really fun hike but when we came ar...   \n1142  I was visiting Yosemite from Australia and wen...   \n1143  I&#39;ve never been especially enthusiastic about ...   \n\n                       review_title experience_date  \n1139         Nice not too long hike            None  \n1140              Worth the effort!            None  \n1141  Wow that was a lot of stairs!            None  \n1142                 Worth The Trip            None  \n1143        Do Not Miss Vernal Fall            None  ",
      "text/html": "<div>\n<style scoped>\n    .dataframe tbody tr th:only-of-type {\n        vertical-align: middle;\n    }\n\n    .dataframe tbody tr th {\n        vertical-align: top;\n    }\n\n    .dataframe thead th {\n        text-align: right;\n    }\n</style>\n<table border=\"1\" class=\"dataframe\">\n  <thead>\n    <tr style=\"text-align: right;\">\n      <th></th>\n      <th>attraction_name</th>\n      <th>attraction_id</th>\n      <th>user_name</th>\n      <th>user_profile_link</th>\n      <th>review_date</th>\n      <th>helpful_votes</th>\n      <th>rating</th>\n      <th>review_link</th>\n      <th>review_text</th>\n      <th>review_title</th>\n      <th>experience_date</th>\n    </tr>\n  </thead>\n  <tbody>\n    <tr>\n      <th>1139</th>\n      <td>Vernal Fall</td>\n      <td>g61000-d483481</td>\n      <td>Fairport Travelers</td>\n      <td>/Profile/Clarkvara</td>\n      <td>Jul 2008</td>\n      <td>560</td>\n      <td>4</td>\n      <td>/ShowUserReviews-g61000-d483481-r17854214-Vern...</td>\n      <td>Vernal Falls is sort of like the first leg of ...</td>\n      <td>Nice not too long hike</td>\n      <td>None</td>\n    </tr>\n    <tr>\n      <th>1140</th>\n      <td>Vernal Fall</td>\n      <td>g61000-d483481</td>\n      <td>CAtravelfamily</td>\n      <td>/Profile/CAtravelfamily</td>\n      <td>Jun 2008</td>\n      <td>16</td>\n      <td>5</td>\n      <td>/ShowUserReviews-g61000-d483481-r17268549-Vern...</td>\n      <td>Whew, it was a tough climb at times, but once ...</td>\n      <td>Worth the effort!</td>\n      <td>None</td>\n    </tr>\n    <tr>\n      <th>1141</th>\n      <td>Vernal Fall</td>\n      <td>g61000-d483481</td>\n      <td>doodlebugakj</td>\n      <td>/Profile/doodlebugakj</td>\n      <td>Jul 2007</td>\n      <td>NaN</td>\n      <td>5</td>\n      <td>/ShowUserReviews-g61000-d483481-r8255121-Verna...</td>\n      <td>This was a really fun hike but when we came ar...</td>\n      <td>Wow that was a lot of stairs!</td>\n      <td>None</td>\n    </tr>\n    <tr>\n      <th>1142</th>\n      <td>Vernal Fall</td>\n      <td>g61000-d483481</td>\n      <td>Jase2153</td>\n      <td>/Profile/Jase2153</td>\n      <td>Sep 2005</td>\n      <td>9</td>\n      <td>5</td>\n      <td>/ShowUserReviews-g61000-d483481-r3910762-Verna...</td>\n      <td>I was visiting Yosemite from Australia and wen...</td>\n      <td>Worth The Trip</td>\n      <td>None</td>\n    </tr>\n    <tr>\n      <th>1143</th>\n      <td>Vernal Fall</td>\n      <td>g61000-d483481</td>\n      <td>booradley2</td>\n      <td>/Profile/booradley2</td>\n      <td>Sep 2004</td>\n      <td>214</td>\n      <td>5</td>\n      <td>/ShowUserReviews-g61000-d483481-r2512847-Verna...</td>\n      <td>I've never been especially enthusiastic about ...</td>\n      <td>Do Not Miss Vernal Fall</td>\n      <td>None</td>\n    </tr>\n  </tbody>\n</table>\n</div>"
     },
     "metadata": {},
     "execution_count": 43
    }
   ],
   "source": [
    "\n",
    "for i in range(6,9):\n",
    "\n",
    "    url = attraction_url_list[i]\n",
    "    point_name = attraction_name_list[i]\n",
    "    point_id = attraction_id_list[i]\n",
    "    n = attraction_numbers[i]\n",
    "    df_reviews = pd.DataFrame(columns=col_names) \n",
    "\n",
    "    for j in range(0, n, 5):\n",
    "\n",
    "        try:\n",
    "            response = requests.get(url.format(j))\n",
    "            if response.status_code == 200:\n",
    "\n",
    "                soup = BeautifulSoup(response.text, 'html5lib')\n",
    "                reviews_list = ta_attraction_reviews_parser(soup)\n",
    "                \n",
    "                if reviews_list:\n",
    "                    df_reviews = df_reviews.append(reviews_list, ignore_index = True)\n",
    "\n",
    "                    df_reviews['attraction_name'] = point_name\n",
    "                    df_reviews['attraction_id'] = point_id\n",
    "\n",
    "                    df_reviews.to_csv(f\"attraction_point_reviews_{point_name}.csv\" , index = False)\n",
    "\n",
    "                else:\n",
    "                    print(f\"Reviews List came up empty on url {url}\")\n",
    "                    # input()\n",
    "\n",
    "            else:\n",
    "                print(f\"status code returned is {response.status_code} for page {url}\")\n",
    "                # input()\n",
    "        \n",
    "        except Exception as err_message:\n",
    "            print(f\"For page {url}, received following error message: {err_message}\")\n",
    "\n",
    "        # print(df_reviews.tail(2))\n",
    "        # time.sleep(0.5*random.random())\n",
    "\n",
    "    df_reviews.to_csv(f\"attraction_point_reviews_{point_name}.csv\" , index = False)\n",
    "    df_reviews.tail()\n",
    "\n",
    "    df_reviews_total = pd.concat([df_reviews_total, df_reviews])\n",
    "    df_reviews_total.to_csv(\"attraction_point_reviews.csv\", index = False)\n",
    "\n",
    "df_reviews_total.tail()\n",
    "             \n",
    "\n",
    "\n",
    "    \n"
   ]
  },
  {
   "cell_type": "code",
   "execution_count": 42,
   "metadata": {},
   "outputs": [
    {
     "output_type": "execute_result",
     "data": {
      "text/plain": "                            attraction_name   attraction_id      user_name  \\\n0    Glacier Point (Yosemite National Park)  g61000-d139187           Lisa   \n1    Glacier Point (Yosemite National Park)  g61000-d139187  Cali4niahiker   \n2    Glacier Point (Yosemite National Park)  g61000-d139187           Gus6   \n3    Glacier Point (Yosemite National Park)  g61000-d139187        Cutecpl   \n4    Glacier Point (Yosemite National Park)  g61000-d139187      johnnnita   \n..                                      ...             ...            ...   \n420                              El Capitan  g61000-d139182          Sam A   \n421                              El Capitan  g61000-d139182   Bernadette C   \n422                              El Capitan  g61000-d139182     rhymes0102   \n423                              El Capitan  g61000-d139182     Roxana_DTS   \n424                              El Capitan  g61000-d139182    Kazukibisnw   \n\n           user_profile_link review_date  helpful_votes rating  \\\n0           /Profile/lisa_1i    Oct 2020            2.0      5   \n1     /Profile/Cali4niahiker    Oct 2020            NaN      5   \n2              /Profile/Gus6    Oct 2020           67.0      5   \n3           /Profile/cutecpl    Sep 2020            2.0      5   \n4         /Profile/johnnnita    Sep 2020            NaN      5   \n..                       ...         ...            ...    ...   \n420         /Profile/114sama    Sep 2016           84.0      5   \n421  /Profile/550bernadettec    Sep 2016           80.0      5   \n422      /Profile/rhymes0102    Sep 2016           65.0      5   \n423      /Profile/Roxana_DTS    Sep 2016          155.0      5   \n424     /Profile/Kazukibisnw    Sep 2016           15.0      4   \n\n                                           review_link  \\\n0    /ShowUserReviews-g61000-d139187-r774573486-Gla...   \n1    /ShowUserReviews-g61000-d139187-r774377599-Gla...   \n2    /ShowUserReviews-g61000-d139187-r774013232-Gla...   \n3    /ShowUserReviews-g61000-d139187-r771781116-Gla...   \n4    /ShowUserReviews-g61000-d139187-r770059892-Gla...   \n..                                                 ...   \n420  /ShowUserReviews-g61000-d139182-r418076310-El_...   \n421  /ShowUserReviews-g61000-d139182-r416184423-El_...   \n422  /ShowUserReviews-g61000-d139182-r415916042-El_...   \n423  /ShowUserReviews-g61000-d139182-r415109515-El_...   \n424  /ShowUserReviews-g61000-d139182-r414650338-El_...   \n\n                                           review_text  \\\n0    Not too many ppl when we arrive at 3pm, probab...   \n1    Glacier Point at about 7000 ft elevation can b...   \n2    The most Iconic view of the half dome, this is...   \n3    What an absolute breathtaking view!  Such a fu...   \n4    This attraction/view will truly take your brea...   \n..                                                 ...   \n420  Massive sheer rock formation that is amazing t...   \n421  A beautiful granite structure. Photo worthy fo...   \n422  Don&#39;t miss El Capitan whilst at the valley. Yo...   \n423  I think this one of the nicest views in the pa...   \n424  I took an awesome picture of me fro the view p...   \n\n                                          review_title experience_date  \n0                        Glacier point during pandemic    October 2020  \n1          Been here dozens of times. Never gets old!     October 2020  \n2    The most Iconic view of the half dome, this is...   November 2019  \n3                                        Glacier Point   November 2019  \n4    THE # ONE PANORAMIC VIEW IN YOSEMITE NATIONAL ...     August 2020  \n..                                                 ...             ...  \n420                                           Majestic  September 2016  \n421                          Majestic sight to behold   September 2016  \n422                                           A must!   September 2016  \n423                                    Stunning views!     August 2016  \n424        Took an awesome picture from the view point      March 2016  \n\n[3201 rows x 11 columns]",
      "text/html": "<div>\n<style scoped>\n    .dataframe tbody tr th:only-of-type {\n        vertical-align: middle;\n    }\n\n    .dataframe tbody tr th {\n        vertical-align: top;\n    }\n\n    .dataframe thead th {\n        text-align: right;\n    }\n</style>\n<table border=\"1\" class=\"dataframe\">\n  <thead>\n    <tr style=\"text-align: right;\">\n      <th></th>\n      <th>attraction_name</th>\n      <th>attraction_id</th>\n      <th>user_name</th>\n      <th>user_profile_link</th>\n      <th>review_date</th>\n      <th>helpful_votes</th>\n      <th>rating</th>\n      <th>review_link</th>\n      <th>review_text</th>\n      <th>review_title</th>\n      <th>experience_date</th>\n    </tr>\n  </thead>\n  <tbody>\n    <tr>\n      <th>0</th>\n      <td>Glacier Point (Yosemite National Park)</td>\n      <td>g61000-d139187</td>\n      <td>Lisa</td>\n      <td>/Profile/lisa_1i</td>\n      <td>Oct 2020</td>\n      <td>2.0</td>\n      <td>5</td>\n      <td>/ShowUserReviews-g61000-d139187-r774573486-Gla...</td>\n      <td>Not too many ppl when we arrive at 3pm, probab...</td>\n      <td>Glacier point during pandemic</td>\n      <td>October 2020</td>\n    </tr>\n    <tr>\n      <th>1</th>\n      <td>Glacier Point (Yosemite National Park)</td>\n      <td>g61000-d139187</td>\n      <td>Cali4niahiker</td>\n      <td>/Profile/Cali4niahiker</td>\n      <td>Oct 2020</td>\n      <td>NaN</td>\n      <td>5</td>\n      <td>/ShowUserReviews-g61000-d139187-r774377599-Gla...</td>\n      <td>Glacier Point at about 7000 ft elevation can b...</td>\n      <td>Been here dozens of times. Never gets old!</td>\n      <td>October 2020</td>\n    </tr>\n    <tr>\n      <th>2</th>\n      <td>Glacier Point (Yosemite National Park)</td>\n      <td>g61000-d139187</td>\n      <td>Gus6</td>\n      <td>/Profile/Gus6</td>\n      <td>Oct 2020</td>\n      <td>67.0</td>\n      <td>5</td>\n      <td>/ShowUserReviews-g61000-d139187-r774013232-Gla...</td>\n      <td>The most Iconic view of the half dome, this is...</td>\n      <td>The most Iconic view of the half dome, this is...</td>\n      <td>November 2019</td>\n    </tr>\n    <tr>\n      <th>3</th>\n      <td>Glacier Point (Yosemite National Park)</td>\n      <td>g61000-d139187</td>\n      <td>Cutecpl</td>\n      <td>/Profile/cutecpl</td>\n      <td>Sep 2020</td>\n      <td>2.0</td>\n      <td>5</td>\n      <td>/ShowUserReviews-g61000-d139187-r771781116-Gla...</td>\n      <td>What an absolute breathtaking view!  Such a fu...</td>\n      <td>Glacier Point</td>\n      <td>November 2019</td>\n    </tr>\n    <tr>\n      <th>4</th>\n      <td>Glacier Point (Yosemite National Park)</td>\n      <td>g61000-d139187</td>\n      <td>johnnnita</td>\n      <td>/Profile/johnnnita</td>\n      <td>Sep 2020</td>\n      <td>NaN</td>\n      <td>5</td>\n      <td>/ShowUserReviews-g61000-d139187-r770059892-Gla...</td>\n      <td>This attraction/view will truly take your brea...</td>\n      <td>THE # ONE PANORAMIC VIEW IN YOSEMITE NATIONAL ...</td>\n      <td>August 2020</td>\n    </tr>\n    <tr>\n      <th>...</th>\n      <td>...</td>\n      <td>...</td>\n      <td>...</td>\n      <td>...</td>\n      <td>...</td>\n      <td>...</td>\n      <td>...</td>\n      <td>...</td>\n      <td>...</td>\n      <td>...</td>\n      <td>...</td>\n    </tr>\n    <tr>\n      <th>420</th>\n      <td>El Capitan</td>\n      <td>g61000-d139182</td>\n      <td>Sam A</td>\n      <td>/Profile/114sama</td>\n      <td>Sep 2016</td>\n      <td>84.0</td>\n      <td>5</td>\n      <td>/ShowUserReviews-g61000-d139182-r418076310-El_...</td>\n      <td>Massive sheer rock formation that is amazing t...</td>\n      <td>Majestic</td>\n      <td>September 2016</td>\n    </tr>\n    <tr>\n      <th>421</th>\n      <td>El Capitan</td>\n      <td>g61000-d139182</td>\n      <td>Bernadette C</td>\n      <td>/Profile/550bernadettec</td>\n      <td>Sep 2016</td>\n      <td>80.0</td>\n      <td>5</td>\n      <td>/ShowUserReviews-g61000-d139182-r416184423-El_...</td>\n      <td>A beautiful granite structure. Photo worthy fo...</td>\n      <td>Majestic sight to behold</td>\n      <td>September 2016</td>\n    </tr>\n    <tr>\n      <th>422</th>\n      <td>El Capitan</td>\n      <td>g61000-d139182</td>\n      <td>rhymes0102</td>\n      <td>/Profile/rhymes0102</td>\n      <td>Sep 2016</td>\n      <td>65.0</td>\n      <td>5</td>\n      <td>/ShowUserReviews-g61000-d139182-r415916042-El_...</td>\n      <td>Don't miss El Capitan whilst at the valley. Yo...</td>\n      <td>A must!</td>\n      <td>September 2016</td>\n    </tr>\n    <tr>\n      <th>423</th>\n      <td>El Capitan</td>\n      <td>g61000-d139182</td>\n      <td>Roxana_DTS</td>\n      <td>/Profile/Roxana_DTS</td>\n      <td>Sep 2016</td>\n      <td>155.0</td>\n      <td>5</td>\n      <td>/ShowUserReviews-g61000-d139182-r415109515-El_...</td>\n      <td>I think this one of the nicest views in the pa...</td>\n      <td>Stunning views!</td>\n      <td>August 2016</td>\n    </tr>\n    <tr>\n      <th>424</th>\n      <td>El Capitan</td>\n      <td>g61000-d139182</td>\n      <td>Kazukibisnw</td>\n      <td>/Profile/Kazukibisnw</td>\n      <td>Sep 2016</td>\n      <td>15.0</td>\n      <td>4</td>\n      <td>/ShowUserReviews-g61000-d139182-r414650338-El_...</td>\n      <td>I took an awesome picture of me fro the view p...</td>\n      <td>Took an awesome picture from the view point</td>\n      <td>March 2016</td>\n    </tr>\n  </tbody>\n</table>\n<p>3201 rows × 11 columns</p>\n</div>"
     },
     "metadata": {},
     "execution_count": 42
    }
   ],
   "source": [
    "df_reviews_total"
   ]
  }
 ]
}