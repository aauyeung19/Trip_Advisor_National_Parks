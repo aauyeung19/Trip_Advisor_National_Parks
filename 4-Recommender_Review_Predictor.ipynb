{
 "cells": [
  {
   "cell_type": "code",
   "execution_count": null,
   "metadata": {},
   "outputs": [],
   "source": [
    "# Please note, all code for recommenders was originally copied from (and then modified) Julia Qiao's github repo. \n",
    "# Source Link: https://github.com/JuliaQiao/NLP_News_Recommender/\n",
    "\n",
    "#create new DF that groups together each topic coefficient by mean.\n",
    "outlet_df = tweet_topic_matrix_df.groupby(by=[\"outlet\"], as_index=False).mean()\n",
    "\n",
    "#average weight of each topic\n",
    "average_tweet  = outlet_df.describe().iloc[1]\n",
    "\n"
   ]
  },
  {
   "cell_type": "code",
   "execution_count": null,
   "metadata": {},
   "outputs": [],
   "source": []
  }
 ],
 "metadata": {
  "kernelspec": {
   "display_name": "Python 3",
   "language": "python",
   "name": "python3"
  },
  "language_info": {
   "codemirror_mode": {
    "name": "ipython",
    "version": 3
   },
   "file_extension": ".py",
   "mimetype": "text/x-python",
   "name": "python",
   "nbconvert_exporter": "python",
   "pygments_lexer": "ipython3",
   "version": "3.8.5"
  }
 },
 "nbformat": 4,
 "nbformat_minor": 4
}
