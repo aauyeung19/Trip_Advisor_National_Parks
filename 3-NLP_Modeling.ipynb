{
 "cells": [
  {
   "cell_type": "code",
   "execution_count": 4,
   "metadata": {
    "tags": []
   },
   "outputs": [
    {
     "name": "stdout",
     "output_type": "stream",
     "text": [
      "The autoreload extension is already loaded. To reload it, use:\n",
      "  %reload_ext autoreload\n"
     ]
    }
   ],
   "source": [
    "import pandas as pd\n",
    "import numpy as np\n",
    "from sklearn.feature_extraction.text import TfidfVectorizer, ENGLISH_STOP_WORDS\n",
    "from sklearn.decomposition import TruncatedSVD\n",
    "from sklearn.decomposition import NMF\n",
    "from sklearn.metrics.pairwise import cosine_similarity\n",
    "import seaborn as sns\n",
    "import matplotlib.pyplot as plt\n",
    "from modeling import *\n",
    "\n",
    "pd.set_option(\"display.max_rows\", 50)\n",
    "pd.set_option(\"display.max_columns\", None)\n",
    "pd.set_option('display.max_colwidth', None)\n",
    "\n",
    "%load_ext autoreload\n",
    "%autoreload 2"
   ]
  },
  {
   "cell_type": "code",
   "execution_count": 2,
   "metadata": {},
   "outputs": [],
   "source": [
    "df = pd.read_csv(\"Reviews_cleaned_for_NLP.csv\")"
   ]
  },
  {
   "cell_type": "code",
   "execution_count": 3,
   "metadata": {},
   "outputs": [
    {
     "data": {
      "text/plain": [
       "Index(['attraction_name', 'attraction_id', 'user_name', 'user_profile_link',\n",
       "       'review_date', 'helpful_votes', 'rating', 'review_link', 'review_text',\n",
       "       'review_title', 'experience_date', 'review_clean', 'review_temp',\n",
       "       'review_lemma'],\n",
       "      dtype='object')"
      ]
     },
     "execution_count": 3,
     "metadata": {},
     "output_type": "execute_result"
    }
   ],
   "source": [
    "df.columns"
   ]
  },
  {
   "cell_type": "markdown",
   "metadata": {},
   "source": [
    "## Vectorizer & Topic Modeling\n",
    "\n",
    "The cleaned corpus is used for for creating a bag of words with TF-IDF\n",
    "This will then be used for topic modeling."
   ]
  },
  {
   "cell_type": "code",
   "execution_count": 5,
   "metadata": {},
   "outputs": [],
   "source": [
    "# stop_words = ENGLISH_STOP_WORDS.union(['yosemite'])\n",
    "\n",
    "tfidf = TfidfVectorizer(stop_words='english', min_df = 0.0001)\n",
    "review_word_matrix = tfidf.fit_transform(df['review_lemma'])\n",
    "review_vocab = tfidf.get_feature_names()\n"
   ]
  },
  {
   "cell_type": "code",
   "execution_count": 20,
   "metadata": {},
   "outputs": [],
   "source": [
    "# nmf_model, err, _, _ = nmf_topic_modeling(review_word_matrix, vocab = review_vocab, 10)"
   ]
  },
  {
   "cell_type": "markdown",
   "metadata": {},
   "source": [
    "A loop is used to generate # of topics using NMF & Truncated SVD"
   ]
  },
  {
   "cell_type": "code",
   "execution_count": 8,
   "metadata": {},
   "outputs": [],
   "source": [
    "nmf_dict = {'nmf': [],'error': [], 'topic_matrix': [], 'word_matrix': []}\n",
    "\n",
    "for i in range(0, 30):\n",
    "\n",
    "    nmf, err, topic_matrix, word_matrix = nmf_topic_modeling(review_word_matrix, review_vocab, i+1)\n",
    "\n",
    "    topic_matrix[['raw_review','review_cleanned']] = df[['review_text','review_lemma']]\n",
    "    \n",
    "    nmf_dict['nmf'].append(nmf)\n",
    "    nmf_dict['error'].append(err)\n",
    "    nmf_dict['topic_matrix'].append(topic_matrix)\n",
    "    nmf_dict['word_matrix'].append(word_matrix)\n",
    "    \n",
    "    print(f\"Progress Update On NMF Components: {i+1} currently.\")"
   ]
  },
  {
   "cell_type": "code",
   "execution_count": 9,
   "metadata": {},
   "outputs": [],
   "source": [
    "lsa_dict = {'lsa': [],'error': [], 'topic_matrix': [], 'word_matrix': []}\n",
    "\n",
    "for i in range(0, 30):\n",
    "\n",
    "    lsa, err, topic_matrix, word_matrix = lsa_topic_modeling(review_word_matrix, review_vocab, i+1)\n",
    "\n",
    "    topic_matrix[['raw_review','review_cleanned']] = df[['review_text','review_lemma']]\n",
    "    \n",
    "    lsa_dict['lsa'].append(lsa)\n",
    "    lsa_dict['error'].append(err)\n",
    "    lsa_dict['topic_matrix'].append(topic_matrix)\n",
    "    lsa_dict['word_matrix'].append(word_matrix)\n",
    "    \n",
    "    print(f\"Progress Update On LSA Components:  {i+1} currently.\")"
   ]
  },
  {
   "cell_type": "markdown",
   "metadata": {},
   "source": [
    "We can now explore the topics & see if anything senseful is showing up.\n",
    "To start with, we will look at just the top 12 words under each topic, when reduced to a 10 topic dimensional space, for NMF & LSA."
   ]
  },
  {
   "cell_type": "code",
   "execution_count": 15,
   "metadata": {},
   "outputs": [
    {
     "name": "stdout",
     "output_type": "stream",
     "text": [
      "Topic 0\n",
      "trail, mist, vernal, step, nevada, muir, john, fall, wet, way, \n",
      "\n",
      "Topic 1\n",
      "point, glacier, bus, parking, drive, road, tour, view, mile, sentinel, \n",
      "\n",
      "Topic 2\n",
      "fall, low, upper, water, yosemite, spring, flow, base, vernal, dry, \n",
      "\n",
      "Topic 3\n",
      "drive, pass, road, tioga, lake, stop, open, snow, meadow, scenery, \n",
      "\n",
      "Topic 4\n",
      "hike, strenuous, mile, easy, worth, steep, great, short, hour, falls, \n",
      "\n",
      "Topic 5\n",
      "park, yosemite, visit, national, place, day, waterfall, good, beautiful, valley, \n",
      "\n",
      "Topic 6\n",
      "dome, half, valley, el, capitan, floor, view, yosemite, climber, look, \n",
      "\n",
      "Topic 7\n",
      "walk, easy, short, low, path, waterfall, area, base, falls, nice, \n",
      "\n",
      "Topic 8\n",
      "water, lot, time, make, people, early, just, sure, beautiful, climb, \n",
      "\n",
      "Topic 9\n",
      "view, worth, amazing, drive, great, spectacular, place, long, valley, good, \n",
      "\n"
     ]
    },
    {
     "data": {
      "text/plain": [
       "array([\"we saw this fall when we went to the Glacier point, it's already very beautiful when we saw in the in Glacier point, you can also see it at the Washburn point (which is a spot on the Glacier point road), there is a trail leading to the falls, you may do it if you have time.\",\n",
       "       \"We spent the day hiking around Glacier Point.  The Point itself is the one place up the Glacier Point road that you don't have to do a long hike to get to.  It is a relatively short walk to the Point and to the reward of a fabulous view.   Amazingly it was not crowded at around 10 am on a Monday.  There are a number of vantage points to enjoy the view.  Definitely take the time to get a different view of Yosemite and the valley.  There are bathrooms in the parking lot.You can hike to Sentinel Dome from Glacier point.  We chose to drive down to the Taft Point / Sentinel Dome Trail head to hike to Sentinel Point and then Taft Point.  It is a but longer of a hike to Sentinel Dome from the Taft Point trail head than from Glacier point but supposedly not as steep.  The drive to Glacier Point from the valley is about an hour (30 miles).  There is no free shuttle to the point only a pay for tour.\",\n",
       "       'WOW! The views from Glacier Point are outstanding. The park is amazing! Must see! I would recommend a one way bus pass to Glacier point, then hike down Glacier point (4 miles). The views are breath taking!',\n",
       "       \"Visited last week of September.Glacier Point is One of the best viewpoints of Yosemite Valley,it is accessible from Wawona Rd (Hwy 41) about 16Miles,1 hour drive south of the valley floor,quite a bit of a drive, but its definitely worth it for the spectacular view.Other way to reach Glacier Point, 1-you can hike the Four-Mile Trail from the valley to Glacier Point.  2-by a paid bus that you can take to Glacier Point.We arrived early(9AM)by Car and were able to find parking and the crowds were limited.The two Glacier Point Lookout are a very short walk to get to from the Parking Lot.The Panoramic View of Yosemite valley from here is amazing and great forpictures,you can see Half Dome, Upper and Lower Yosemite Falls,Vernal falls,Nevada Falls and many other points of interest.There are Free Telescope viewer faces Half Dome at observation stations for viewing sights,you can see people climbing up Half Dome.Also there is a small geological display Box help the visitors to identify what they are looking at.There is a Gift Shop that sells souvenirs and snacks,also there are restrooms as well,but no running water(absolutely disgusting!).Traveling on Glacier Point Road be sure to stop at Washburn Point before you get to Glacier Point,it is just off the road.You can get the same view of the surrounding areas, but from a slightly different angle,which is almost an equally impressive viewpoint.The views of Vernal and Nevada Falls are slightly closer from Washburn Point than from Glacier Point.If you go to Yosemite, Be Sure to stop by Glacier Point and Washburn Point .Go early to avoid the crowd and take your time to admire the view from there,and take a lots of photos, it's spectacular.\",\n",
       "       'We took the glacier point tour bus from Yosemite valley to glacier point.  Once up on the point it is quite a spectacular sight.  You can see half dome,  El Capitan and others.  Highly recommend this place '],\n",
       "      dtype=object)"
      ]
     },
     "execution_count": 15,
     "metadata": {},
     "output_type": "execute_result"
    }
   ],
   "source": [
    "n_topics = 10\n",
    "n_words = 12\n",
    "\n",
    "top_words_for_all_topics(nmf_dict['word_matrix'][n_topics-1], n_topics, n_words)\n",
    "\n",
    "top_reviews(nmf_dict['topic_matrix'][n_topics-1], 'topic_1', 5)"
   ]
  },
  {
   "cell_type": "markdown",
   "metadata": {},
   "source": [
    "**Must remove 'yosemite' and perhaps club together all Proper nouns.\n",
    "May get rid of them?**"
   ]
  },
  {
   "cell_type": "markdown",
   "metadata": {},
   "source": [
    "Look at different POS and perhaps consider keeping only some when lemmatizing"
   ]
  }
 ],
 "metadata": {
  "kernelspec": {
   "display_name": "Python 3",
   "language": "python",
   "name": "python3"
  },
  "language_info": {
   "codemirror_mode": {
    "name": "ipython",
    "version": 3
   },
   "file_extension": ".py",
   "mimetype": "text/x-python",
   "name": "python",
   "nbconvert_exporter": "python",
   "pygments_lexer": "ipython3",
   "version": "3.8.5"
  }
 },
 "nbformat": 4,
 "nbformat_minor": 4
}
